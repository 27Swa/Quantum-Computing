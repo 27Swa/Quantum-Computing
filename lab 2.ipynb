{
 "cells": [
  {
   "cell_type": "code",
   "execution_count": 1,
   "id": "e6a77efb-b353-415f-8939-cd2555c5baa0",
   "metadata": {},
   "outputs": [],
   "source": [
    "v1 = [1+2j , 3-4j]\n",
    "v2 = [2-3j , -1+5j]"
   ]
  },
  {
   "cell_type": "code",
   "execution_count": 2,
   "id": "0577555f-ea25-4189-ba1a-72ae6b11080c",
   "metadata": {},
   "outputs": [],
   "source": [
    "def add(a,b):\n",
    "    if len(a) != len(b):\n",
    "        print(\"These vectors must have lengths\")\n",
    "        return \n",
    "    c = []\n",
    "    for i in range(len(a)):\n",
    "        c.append(a[i] +b[i])\n",
    "    return c            "
   ]
  },
  {
   "cell_type": "code",
   "execution_count": 3,
   "id": "0c9c245d-0780-442f-9f09-98b2f52bb9ee",
   "metadata": {},
   "outputs": [
    {
     "name": "stdout",
     "output_type": "stream",
     "text": [
      "[(3-1j), (2+1j)]\n"
     ]
    }
   ],
   "source": [
    "add_res = add(v1,v2)\n",
    "print(add_res)"
   ]
  },
  {
   "cell_type": "code",
   "execution_count": 4,
   "id": "c4dd35ff-90d3-4c15-a6bd-fabb76246ddd",
   "metadata": {},
   "outputs": [],
   "source": [
    "def scale(a,num):\n",
    "    c = []\n",
    "    for i in range(len(a)):\n",
    "        c.append(a[i]*num)\n",
    "    return c"
   ]
  },
  {
   "cell_type": "code",
   "execution_count": 5,
   "id": "00cdb021-d069-4709-bf47-faaa022c1864",
   "metadata": {},
   "outputs": [
    {
     "name": "stdout",
     "output_type": "stream",
     "text": [
      "[(2+4j), (6-8j)]\n"
     ]
    }
   ],
   "source": [
    "sca_res = scale(v1,2)\n",
    "print(sca_res)"
   ]
  },
  {
   "cell_type": "code",
   "execution_count": 6,
   "id": "bb360c04-979b-4903-9bb4-b0fddfe66c2e",
   "metadata": {},
   "outputs": [
    {
     "name": "stdout",
     "output_type": "stream",
     "text": [
      "[(-1-2j), (-3+4j)]\n"
     ]
    }
   ],
   "source": [
    "inv_res = scale(v1,-1)\n",
    "print(inv_res)"
   ]
  },
  {
   "cell_type": "code",
   "execution_count": 7,
   "id": "3b0f6f3d-3383-4663-a2df-e44a4a6d9177",
   "metadata": {},
   "outputs": [],
   "source": [
    "A = [[1, 3],[2, 0]]\n",
    "B = [[2, -1],[4, 1]]"
   ]
  },
  {
   "cell_type": "code",
   "execution_count": 8,
   "id": "39a98bfe-4809-4a7f-bd9d-820b4e3af0e3",
   "metadata": {},
   "outputs": [],
   "source": [
    "def add_mat(a,b):\n",
    "    if len(a) != len(b):\n",
    "        print(\"Matrices must have same lengths\")\n",
    "        return\n",
    "    c = []\n",
    "    for j in range(len(a)):\n",
    "        c.append(add(a[j],b[j]))\n",
    "    return c"
   ]
  },
  {
   "cell_type": "code",
   "execution_count": 9,
   "id": "b1ee8f21-f6f7-47e2-b653-3f5a110b851f",
   "metadata": {},
   "outputs": [
    {
     "data": {
      "text/plain": [
       "[[3, 2], [6, 1]]"
      ]
     },
     "execution_count": 9,
     "metadata": {},
     "output_type": "execute_result"
    }
   ],
   "source": [
    "mat_add = add_mat(A,B)\n",
    "mat_add"
   ]
  },
  {
   "cell_type": "code",
   "execution_count": 10,
   "id": "db1d37ae-c6fe-4ccc-a902-642b672e09b3",
   "metadata": {},
   "outputs": [],
   "source": [
    "def scale_mat(a,num):\n",
    "    c = []\n",
    "    for j in range(len(a)):\n",
    "        c.append(scale(a[j],num))\n",
    "    return c"
   ]
  },
  {
   "cell_type": "code",
   "execution_count": 11,
   "id": "3fd0b534-b996-4811-85f9-37684cc2b671",
   "metadata": {},
   "outputs": [
    {
     "data": {
      "text/plain": [
       "[[2, 6], [4, 0]]"
      ]
     },
     "execution_count": 11,
     "metadata": {},
     "output_type": "execute_result"
    }
   ],
   "source": [
    "mat_scale = scale_mat(A,2)\n",
    "mat_scale"
   ]
  },
  {
   "cell_type": "code",
   "execution_count": 12,
   "id": "40d60dc5-f4d0-459c-8d4e-c63bba8dcc8c",
   "metadata": {},
   "outputs": [
    {
     "data": {
      "text/plain": [
       "[[-1, -3], [-2, 0]]"
      ]
     },
     "execution_count": 12,
     "metadata": {},
     "output_type": "execute_result"
    }
   ],
   "source": [
    "mat_inv = scale_mat(A,-1)\n",
    "mat_inv"
   ]
  },
  {
   "cell_type": "code",
   "execution_count": 13,
   "id": "841c61bd-a5e4-4664-8d88-89b15a9e8f80",
   "metadata": {},
   "outputs": [],
   "source": [
    "def mul_mat(a,b):\n",
    "    ra,ca = len(a), len(a[0])\n",
    "    rb,cb = len(b), len(b[0])\n",
    "    if ca != rb:\n",
    "        print (\"Error\")\n",
    "    res = [[0 for _ in range(cb)] for __ in range(ra)]\n",
    "    for i in range(len(a)):\n",
    "        for j in range(len(a[i])):\n",
    "            for k in range(len(a[i])):\n",
    "                res[i][j] += a[i][k] * b[k][j]\n",
    "    return res"
   ]
  },
  {
   "cell_type": "code",
   "execution_count": 14,
   "id": "3c44d691-161d-4cc9-83c3-828aa22eb761",
   "metadata": {},
   "outputs": [
    {
     "data": {
      "text/plain": [
       "[[14, 2], [4, -2]]"
      ]
     },
     "execution_count": 14,
     "metadata": {},
     "output_type": "execute_result"
    }
   ],
   "source": [
    "mat_mul = mul_mat(A,B)\n",
    "mat_mul"
   ]
  },
  {
   "cell_type": "code",
   "execution_count": 15,
   "id": "f4d99adc-89b9-4b91-b62f-6003cba27351",
   "metadata": {},
   "outputs": [],
   "source": [
    "def vect_mat(a,b):\n",
    "    res = [ sum(a[i][j] * b[j] for j in range(len(b))) for i in range(len(a))]\n",
    "    return res"
   ]
  },
  {
   "cell_type": "code",
   "execution_count": 16,
   "id": "59f4a3a7-d1f1-4251-877d-923a206b26db",
   "metadata": {},
   "outputs": [
    {
     "data": {
      "text/plain": [
       "[(10-10j), (2+4j)]"
      ]
     },
     "execution_count": 16,
     "metadata": {},
     "output_type": "execute_result"
    }
   ],
   "source": [
    "mat_vect = vect_mat(A,v1)\n",
    "mat_vect"
   ]
  }
 ],
 "metadata": {
  "kernelspec": {
   "display_name": "Python [conda env:base] *",
   "language": "python",
   "name": "conda-base-py"
  },
  "language_info": {
   "codemirror_mode": {
    "name": "ipython",
    "version": 3
   },
   "file_extension": ".py",
   "mimetype": "text/x-python",
   "name": "python",
   "nbconvert_exporter": "python",
   "pygments_lexer": "ipython3",
   "version": "3.11.5"
  }
 },
 "nbformat": 4,
 "nbformat_minor": 5
}
