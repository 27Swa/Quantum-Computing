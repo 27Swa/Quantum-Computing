{
 "cells": [
  {
   "cell_type": "code",
   "execution_count": 1,
   "id": "1858a810-6a1a-496c-84dd-8816221fae3a",
   "metadata": {},
   "outputs": [],
   "source": [
    "import cmath as cm"
   ]
  },
  {
   "cell_type": "code",
   "execution_count": 22,
   "id": "c03f880a-2961-4ac4-b4f4-4c86430f8198",
   "metadata": {},
   "outputs": [
    {
     "name": "stdin",
     "output_type": "stream",
     "text": [
      " 1+2j\n",
      " 3-4j\n"
     ]
    }
   ],
   "source": [
    "c1 = complex(input())\n",
    "c2 = complex(input())"
   ]
  },
  {
   "cell_type": "code",
   "execution_count": 24,
   "id": "e8c0a733-8962-4759-a48d-72ef94896d67",
   "metadata": {},
   "outputs": [],
   "source": [
    "# Add 2 imaginary numbers\n",
    "def add(a,b):\n",
    "    return a + b"
   ]
  },
  {
   "cell_type": "code",
   "execution_count": 30,
   "id": "6ce0bc68-1a90-4ced-808e-c1a381456630",
   "metadata": {},
   "outputs": [
    {
     "name": "stdout",
     "output_type": "stream",
     "text": [
      "Addition: (4-2j)\n"
     ]
    }
   ],
   "source": [
    "add_res = add(c1,c2)\n",
    "print(f\"Addition: {add_res}\")"
   ]
  },
  {
   "cell_type": "code",
   "execution_count": 32,
   "id": "7572ef5e-b99e-456d-a9c8-1237b2d70d3c",
   "metadata": {},
   "outputs": [],
   "source": [
    "# Multiply 2 imaginary numbers\n",
    "def multiply(im1,im2):\n",
    "    return im1 * im2"
   ]
  },
  {
   "cell_type": "code",
   "execution_count": 34,
   "id": "5b00336d-6db2-41b6-b2dc-912c58e243fb",
   "metadata": {},
   "outputs": [
    {
     "name": "stdout",
     "output_type": "stream",
     "text": [
      "Multiply: (11+2j)\n"
     ]
    }
   ],
   "source": [
    "mul_res = multiply(c1,c2)\n",
    "print(f\"Multiply: {mul_res}\")"
   ]
  },
  {
   "cell_type": "code",
   "execution_count": 36,
   "id": "b3ca7da5-b741-4b09-904a-57acc1ea49af",
   "metadata": {},
   "outputs": [],
   "source": [
    "# Subtract 2 imaginary numbers\n",
    "def subtract(im1,im2):\n",
    "    return im1 - im2"
   ]
  },
  {
   "cell_type": "code",
   "execution_count": 38,
   "id": "526e97ca-8faf-41eb-9f9f-b24707538c23",
   "metadata": {},
   "outputs": [
    {
     "name": "stdout",
     "output_type": "stream",
     "text": [
      "Subtraction: (-2+6j)\n"
     ]
    }
   ],
   "source": [
    "sub_res = subtract(c1,c2)\n",
    "print(f\"Subtraction: {sub_res}\")"
   ]
  },
  {
   "cell_type": "code",
   "execution_count": 40,
   "id": "c7e9da13-95c7-4097-bdf2-d06f52f1f577",
   "metadata": {},
   "outputs": [],
   "source": [
    "# Divide 2 numbers\n",
    "def division(im1,im2):\n",
    "    return im1 /im2"
   ]
  },
  {
   "cell_type": "code",
   "execution_count": 42,
   "id": "592db6f1-2a6c-4f3c-a7e2-48a044b5075f",
   "metadata": {},
   "outputs": [
    {
     "name": "stdout",
     "output_type": "stream",
     "text": [
      "Division: (-0.2+0.4j)\n"
     ]
    }
   ],
   "source": [
    "div_res = division(c1,c2)\n",
    "print(f\"Division: {div_res}\")"
   ]
  },
  {
   "cell_type": "code",
   "execution_count": 44,
   "id": "74084efd-d1d2-4732-aa1a-2a1020ffb642",
   "metadata": {},
   "outputs": [],
   "source": [
    "def conjugation(a):\n",
    "    b = complex(a.real , (-1) * a.imag)\n",
    "    return b"
   ]
  },
  {
   "cell_type": "code",
   "execution_count": 46,
   "id": "29924147-08ad-45aa-9280-4fd48607ae03",
   "metadata": {},
   "outputs": [
    {
     "name": "stdout",
     "output_type": "stream",
     "text": [
      "Conjugate: (1-2j)\n"
     ]
    }
   ],
   "source": [
    "conj_res = conjugation(c1)\n",
    "print(f\"Conjugate: {conj_res}\")"
   ]
  },
  {
   "cell_type": "code",
   "execution_count": 48,
   "id": "75744353-21dd-4be2-a223-1cb7549beb9e",
   "metadata": {},
   "outputs": [],
   "source": [
    "def modulus(im1):\n",
    "    a = im1.real** 2\n",
    "    b = im1.imag ** 2\n",
    "    return (a + b) ** 0.5"
   ]
  },
  {
   "cell_type": "code",
   "execution_count": 50,
   "id": "d5084218-9bf8-4c23-b444-4b09b61ab6bf",
   "metadata": {},
   "outputs": [
    {
     "name": "stdout",
     "output_type": "stream",
     "text": [
      "Modulus: 2.23606797749979\n"
     ]
    }
   ],
   "source": [
    "mod_res = modulus(c1)\n",
    "print(f\"Modulus: {mod_res}\")"
   ]
  },
  {
   "cell_type": "code",
   "execution_count": 52,
   "id": "6edeb0a4-6bfd-44e0-b4a1-c695270074b4",
   "metadata": {},
   "outputs": [],
   "source": [
    "# Polar representation\n",
    "def polar_(im1):\n",
    "    # Modulus\n",
    "    p = modulus(im1)\n",
    "    # degree\n",
    "    theata = cm.atan(im1.imag/ im1.real)\n",
    "    return p,theata"
   ]
  },
  {
   "cell_type": "code",
   "execution_count": 54,
   "id": "f502da7f-60ed-410e-8642-1cdced43bec5",
   "metadata": {},
   "outputs": [
    {
     "name": "stdout",
     "output_type": "stream",
     "text": [
      "Polar: (2.23606797749979, (1.1071487177940904+0j))\n"
     ]
    }
   ],
   "source": [
    "pol_res = polar_(c1)\n",
    "print(f\"Polar: {pol_res}\")"
   ]
  },
  {
   "cell_type": "code",
   "execution_count": 56,
   "id": "61847325-f2e0-43b2-8d2a-a0416f9f607e",
   "metadata": {},
   "outputs": [],
   "source": [
    "def cartesian(a):\n",
    "    r = a[0] * cm.cos(a[1])\n",
    "    i = a[0] * cm.sin(a[1])\n",
    "    return complex(r,i)"
   ]
  },
  {
   "cell_type": "code",
   "execution_count": 58,
   "id": "e1b1e27a-0889-4bbc-9e11-9e58ce8bc50c",
   "metadata": {},
   "outputs": [
    {
     "name": "stdout",
     "output_type": "stream",
     "text": [
      "Cartesian: (1.0000000000000002+2j)\n"
     ]
    }
   ],
   "source": [
    "car_res = cartesian(pol_res)\n",
    "print(f\"Cartesian: {car_res}\")"
   ]
  }
 ],
 "metadata": {
  "kernelspec": {
   "display_name": "Python [conda env:base] *",
   "language": "python",
   "name": "conda-base-py"
  },
  "language_info": {
   "codemirror_mode": {
    "name": "ipython",
    "version": 3
   },
   "file_extension": ".py",
   "mimetype": "text/x-python",
   "name": "python",
   "nbconvert_exporter": "python",
   "pygments_lexer": "ipython3",
   "version": "3.11.5"
  }
 },
 "nbformat": 4,
 "nbformat_minor": 5
}
