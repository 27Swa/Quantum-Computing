{
  "nbformat": 4,
  "nbformat_minor": 0,
  "metadata": {
    "colab": {
      "provenance": []
    },
    "kernelspec": {
      "name": "python3",
      "display_name": "Python 3"
    },
    "language_info": {
      "name": "python"
    }
  },
  "cells": [
    {
      "cell_type": "code",
      "source": [
        "vec1 = [1 + 2j,3 - 4j] # when reading :[(1+2j), (3-4j)]\n",
        "vec2 = [2 - 3j,-1 + 5j]\n",
        "vec3 = [2 - 3j,-1 + 5j, 1 + 2j,3 - 4j]"
      ],
      "metadata": {
        "id": "AYyDUW-VJYUo"
      },
      "execution_count": null,
      "outputs": []
    },
    {
      "cell_type": "code",
      "source": [
        "def same_distance(v1,v2):\n",
        "  return len(v1) == len(v2)"
      ],
      "metadata": {
        "id": "oFETd9eQP7oR"
      },
      "execution_count": null,
      "outputs": []
    },
    {
      "cell_type": "code",
      "source": [
        "print(same_distance(vec1,vec2))"
      ],
      "metadata": {
        "colab": {
          "base_uri": "https://localhost:8080/"
        },
        "id": "cqdafCSgYHJH",
        "outputId": "730b31aa-df66-4c9d-89f9-97439beee791"
      },
      "execution_count": null,
      "outputs": [
        {
          "output_type": "stream",
          "name": "stdout",
          "text": [
            "True\n"
          ]
        }
      ]
    },
    {
      "cell_type": "code",
      "source": [
        "print(same_distance(vec1,vec3))"
      ],
      "metadata": {
        "colab": {
          "base_uri": "https://localhost:8080/"
        },
        "id": "Yd3ZXIuVYkbX",
        "outputId": "e790e4ff-ca74-4b07-d979-03ea06e5674c"
      },
      "execution_count": null,
      "outputs": [
        {
          "output_type": "stream",
          "name": "stdout",
          "text": [
            "False\n"
          ]
        }
      ]
    },
    {
      "cell_type": "code",
      "source": [
        "def conjugation(a):\n",
        "    b = complex(a.real , (-1) * a.imag)\n",
        "    return b"
      ],
      "metadata": {
        "id": "W4TOuzFKOnHM"
      },
      "execution_count": null,
      "outputs": []
    },
    {
      "cell_type": "code",
      "source": [
        "print(conjugation(vec1[0]))"
      ],
      "metadata": {
        "colab": {
          "base_uri": "https://localhost:8080/"
        },
        "id": "oCXhpICkYdYr",
        "outputId": "ba778ce3-b1ca-4018-e268-9c4c76684abb"
      },
      "execution_count": null,
      "outputs": [
        {
          "output_type": "stream",
          "name": "stdout",
          "text": [
            "(1-2j)\n"
          ]
        }
      ]
    },
    {
      "cell_type": "code",
      "execution_count": null,
      "metadata": {
        "id": "S1kEvLYOMNDU"
      },
      "outputs": [],
      "source": [
        "def inner_product(v1,v2):\n",
        "  \"\"\"\n",
        "  inner product = sum(conj(v1[i])*v2[i])\n",
        "  \"\"\"\n",
        "  if same_distance(v1,v2):\n",
        "      return sum(conjugation(v1[i])*v2[i] for i in range(len(v1)))\n",
        "  else:\n",
        "        print('2 vectors must have same length')\n",
        "        return None"
      ]
    },
    {
      "cell_type": "code",
      "source": [
        "print(inner_product(vec1,vec2))"
      ],
      "metadata": {
        "colab": {
          "base_uri": "https://localhost:8080/"
        },
        "id": "Mp_n4cFfZ_K6",
        "outputId": "266d092e-84e8-45ed-c25b-0a11f9d9df0c"
      },
      "execution_count": null,
      "outputs": [
        {
          "output_type": "stream",
          "name": "stdout",
          "text": [
            "(-27+4j)\n"
          ]
        }
      ]
    },
    {
      "cell_type": "code",
      "source": [
        "def modulus(a):\n",
        "  total = 0\n",
        "  for i in range(len(a)):\n",
        "      b = a[i].real ** 2\n",
        "      c = a[i].imag ** 2\n",
        "      total += b + c\n",
        "  return total ** 0.5"
      ],
      "metadata": {
        "id": "dwRSbjPbO2TA"
      },
      "execution_count": null,
      "outputs": []
    },
    {
      "cell_type": "code",
      "source": [
        "print(modulus(vec1))"
      ],
      "metadata": {
        "colab": {
          "base_uri": "https://localhost:8080/"
        },
        "id": "pB1RXWptcH18",
        "outputId": "a354e52a-29fd-43d5-d82e-1d50167c6d1d"
      },
      "execution_count": null,
      "outputs": [
        {
          "output_type": "stream",
          "name": "stdout",
          "text": [
            "5.477225575051661\n"
          ]
        }
      ]
    },
    {
      "cell_type": "code",
      "source": [
        "def distance(v1,v2):\n",
        "   if same_distance(v1,v2):\n",
        "      subt = [ (v1[i] - v2[i]) for i in range(len(v1))]\n",
        "      return modulus(subt)\n",
        "   else:\n",
        "      print('2 vectors must have same length')\n",
        "      return None"
      ],
      "metadata": {
        "id": "WDisW3QkQZ_1"
      },
      "execution_count": null,
      "outputs": []
    },
    {
      "cell_type": "code",
      "source": [
        "print(distance(vec1,vec2))"
      ],
      "metadata": {
        "colab": {
          "base_uri": "https://localhost:8080/"
        },
        "id": "QZ5ZRfsEeHPI",
        "outputId": "e7b1fe2c-eb26-4864-f78d-64c8f7c7d50f"
      },
      "execution_count": null,
      "outputs": [
        {
          "output_type": "stream",
          "name": "stdout",
          "text": [
            "11.090536506409418\n"
          ]
        }
      ]
    },
    {
      "cell_type": "code",
      "source": [
        "mat1 = [[(1 + 2j),(2 - 1j)],[(3+ 0j),(4 + 2j)]]\n",
        "mat2 = [[1 + 1j,3 - 4j],[2 - 3j,-1 + 5j]]\n",
        "mat3 = [[2 + 0j,1 +1j],[1 - 1j,3 + 0j]]"
      ],
      "metadata": {
        "id": "3HF8ynHyO8fS"
      },
      "execution_count": null,
      "outputs": []
    },
    {
      "cell_type": "code",
      "source": [
        "def transpose(m1):\n",
        "  return [[m1[j][i] for j in range(len(m1))] for i in range(len(m1[0]))]"
      ],
      "metadata": {
        "id": "ny_zzwxvJY8p"
      },
      "execution_count": null,
      "outputs": []
    },
    {
      "cell_type": "code",
      "source": [
        "print(transpose(mat1))"
      ],
      "metadata": {
        "colab": {
          "base_uri": "https://localhost:8080/"
        },
        "id": "9TCtRg3QfAU1",
        "outputId": "d2278bb2-eed2-4499-b1e7-7887f8b97a10"
      },
      "execution_count": null,
      "outputs": [
        {
          "output_type": "stream",
          "name": "stdout",
          "text": [
            "[[(1+2j), (3+0j)], [(2-1j), (4+2j)]]\n"
          ]
        }
      ]
    },
    {
      "cell_type": "code",
      "source": [
        "def hermitian_matrix(m1):\n",
        "    m2 = [[ conjugation(m1[i][j]) for j in range(len(m1))] for i in range(len(m1[0]))]\n",
        "    m2 = transpose(m2)\n",
        "    for i in range(len(m1)):\n",
        "      for j in range(len(m1)):\n",
        "        if m1[i][j] != m2[i][j]:\n",
        "          return \"it isn't Hermitian.\"\n",
        "    return \"it is Hermitian.\""
      ],
      "metadata": {
        "id": "NsDdmVNPUMQW"
      },
      "execution_count": null,
      "outputs": []
    },
    {
      "cell_type": "code",
      "source": [
        "print(hermitian_matrix(mat3))"
      ],
      "metadata": {
        "colab": {
          "base_uri": "https://localhost:8080/"
        },
        "id": "bk0XBRnZf-5b",
        "outputId": "e543ae55-a757-46a0-d732-8cd5ee724a14"
      },
      "execution_count": null,
      "outputs": [
        {
          "output_type": "stream",
          "name": "stdout",
          "text": [
            "it is Hermitian.\n"
          ]
        }
      ]
    }
  ]
}